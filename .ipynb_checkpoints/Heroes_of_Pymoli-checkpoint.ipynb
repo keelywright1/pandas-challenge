{
 "cells": [
  {
   "cell_type": "code",
   "execution_count": null,
   "metadata": {},
   "outputs": [],
   "source": [
    "import pandas pd"
   ]
  },
  {
   "cell_type": "code",
   "execution_count": null,
   "metadata": {},
   "outputs": [],
   "source": [
    "#file variable gets path to source csv\n",
    "file = \"../Resource/purchase_data.csv\"\n",
    "\n",
    "#read source data\n",
    "Pymoli_data = pd.read_csv(file)\n",
    "\n",
    "#create dataframe\n",
    "Pymoli_df = pd.DataFrame(Pymoli_data)\n"
   ]
  },
  {
   "cell_type": "code",
   "execution_count": 1,
   "metadata": {},
   "outputs": [],
   "source": [
    "#Player Count\n",
    "#Display the total number of players"
   ]
  }
 ],
 "metadata": {
  "kernelspec": {
   "display_name": "Python 3",
   "language": "python",
   "name": "python3"
  },
  "language_info": {
   "codemirror_mode": {
    "name": "ipython",
    "version": 3
   },
   "file_extension": ".py",
   "mimetype": "text/x-python",
   "name": "python",
   "nbconvert_exporter": "python",
   "pygments_lexer": "ipython3",
   "version": "3.8.5"
  }
 },
 "nbformat": 4,
 "nbformat_minor": 4
}
